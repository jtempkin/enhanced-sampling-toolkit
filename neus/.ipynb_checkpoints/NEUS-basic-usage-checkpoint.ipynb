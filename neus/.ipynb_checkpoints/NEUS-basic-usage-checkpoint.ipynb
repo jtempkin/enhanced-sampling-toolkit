{
 "cells": [
  {
   "cell_type": "markdown",
   "metadata": {},
   "source": [
    "## NEUS Application Basic Usage Guide\n",
    "\n",
    "The NEUS application later is composed of two fundamental objects:\n",
    "\n",
    "* A Window object\n",
    "* A partition object\n",
    "\n",
    "The Window object represents the data strutures and routines that represent a single spatiotemporal restriction, or a single \"window\" in your NEUS scheme. In the language of NEUS, this corresponds to a single restricted value of the $J^{(t)}$ process. \n",
    "\n",
    "The partition object represents a list of Window instances. Again, in the language of NEUS, it represents the full space of the $J^{(t)}$ process.\n",
    "\n",
    "In the following, we will illustrate some basic usage of these objects with the idea of familiarizing the user with their tools and syntax. For a fuller example of how one can use these tools to do a full NEUS calculation, please refer to the examples section.\n",
    "\n",
    "\n",
    "Ok, let's write out the goals of this section:\n",
    "\n",
    "* illustrate the basic usage + syntax of the NEUS objects\n",
    "* show how these objects can be used to set up an NEUS calculation in the language of the paper. \n",
    "\n",
    "### Window objects\n",
    "\n",
    "Let's start with the windows. The NEUS application in the toolkit provides a parent module. Different shapes of the supports in space-time are supported by class inherentence. "
   ]
  },
  {
   "cell_type": "markdown",
   "metadata": {},
   "source": [
    "### Partition objects\n",
    "\n",
    "To initialize a partition object:"
   ]
  },
  {
   "cell_type": "code",
   "execution_count": 29,
   "metadata": {
    "collapsed": true
   },
   "outputs": [],
   "source": [
    "import partition\n",
    "import numpy as np\n",
    "sys = partition.partition()"
   ]
  },
  {
   "cell_type": "markdown",
   "metadata": {},
   "source": [
    "One can add elements to the partition one by one:"
   ]
  },
  {
   "cell_type": "code",
   "execution_count": 30,
   "metadata": {
    "collapsed": false
   },
   "outputs": [
    {
     "name": "stdout",
     "output_type": "stream",
     "text": [
      "partition([Pyramid([ 0.], [ 1.]), Pyramid([ 0.], [ 1.]), Pyramid([ 0.], [ 1.])])\n"
     ]
    }
   ],
   "source": [
    "# import a window object with a pyramid support\n",
    "import pyramid\n",
    "win = pyramid.Pyramid([0.0], [1.0])\n",
    "\n",
    "sys.append(win)\n",
    "\n",
    "print sys"
   ]
  },
  {
   "cell_type": "markdown",
   "metadata": {},
   "source": [
    "Or hand partition a list at initialization:"
   ]
  },
  {
   "cell_type": "code",
   "execution_count": 31,
   "metadata": {
    "collapsed": false
   },
   "outputs": [
    {
     "name": "stdout",
     "output_type": "stream",
     "text": [
      "partition([Pyramid(0.0, [ 1.]), Pyramid(1.0, [ 1.]), Pyramid(2.0, [ 1.]), Pyramid(3.0, [ 1.]), Pyramid(4.0, [ 1.]), Pyramid(5.0, [ 1.]), Pyramid(6.0, [ 1.]), Pyramid(7.0, [ 1.]), Pyramid(8.0, [ 1.]), Pyramid(9.0, [ 1.]), Pyramid(10.0, [ 1.])])\n"
     ]
    }
   ],
   "source": [
    "windows = [pyramid.Pyramid(i,[1.0]) for i in np.linspace(0.0, 10.0, 11)]\n",
    "sys = partition.partition(windows)\n",
    "print sys"
   ]
  },
  {
   "cell_type": "markdown",
   "metadata": {},
   "source": [
    "Further, partition supports the addition operation for merging two partition objects:"
   ]
  },
  {
   "cell_type": "code",
   "execution_count": 32,
   "metadata": {
    "collapsed": false
   },
   "outputs": [],
   "source": [
    "#union = sys1 + sys2\n",
    "#print union"
   ]
  },
  {
   "cell_type": "code",
   "execution_count": null,
   "metadata": {
    "collapsed": true
   },
   "outputs": [],
   "source": []
  }
 ],
 "metadata": {
  "kernelspec": {
   "display_name": "Python 2",
   "language": "python",
   "name": "python2"
  },
  "language_info": {
   "codemirror_mode": {
    "name": "ipython",
    "version": 2
   },
   "file_extension": ".py",
   "mimetype": "text/x-python",
   "name": "python",
   "nbconvert_exporter": "python",
   "pygments_lexer": "ipython2",
   "version": "2.7.11"
  }
 },
 "nbformat": 4,
 "nbformat_minor": 0
}
