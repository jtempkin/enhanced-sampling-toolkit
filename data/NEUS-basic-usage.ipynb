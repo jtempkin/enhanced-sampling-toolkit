{
 "cells": [
  {
   "cell_type": "markdown",
   "metadata": {},
   "source": [
    "The NEUS application toolkit provides three modules:\n",
    "\n",
    "* A Window object\n",
    "* A partition object\n",
    "* An Entry Point collection\n",
    "\n",
    "The Window object represents the data strutures and routines that represent a single spatiotemporal restriction, or a single \"window\" in your NEUS scheme. In the language of NEUS, this corresponds to a single restricted value of the $J^{(t)}$ process. \n",
    "\n",
    "The partition object represents a callable list of Window instances. Again, in the language of NEUS, it represents the full index space of the $J^{(t)}$ process.\n",
    "\n",
    "The entry point module provides a named tuple structure for storing the state of the system at a particular point in phase space.\n",
    "\n",
    "In the following, we will illustrate some basic usage of these objects with the idea of familiarizing the user with their tools and syntax."
   ]
  },
  {
   "cell_type": "code",
   "execution_count": 2,
   "metadata": {
    "collapsed": false
   },
   "outputs": [],
   "source": [
    "%matplotlib inline\n",
    "from matplotlib import pyplot as plt\n",
    "import numpy as np\n",
    "from neus import pyramid\n",
    "from neus import partition "
   ]
  },
  {
   "cell_type": "markdown",
   "metadata": {},
   "source": [
    "#### Window objects\n",
    "\n",
    "The NEUS application in the toolkit provides a parent module called \"window\". The shape of the support of each window can be customized by writing a class that inherents from the window parent class. \n",
    "\n",
    "For example, the NEUS toolkit provides a pyramidal shaped module named neus.pyramid. "
   ]
  },
  {
   "cell_type": "code",
   "execution_count": 4,
   "metadata": {
    "collapsed": false
   },
   "outputs": [
    {
     "data": {
      "text/plain": [
       "[<matplotlib.lines.Line2D at 0x10f895ad0>]"
      ]
     },
     "execution_count": 4,
     "metadata": {},
     "output_type": "execute_result"
    },
    {
     "data": {
      "image/png": "[encoded data removed]",
      "text/plain": [
       "<matplotlib.figure.Figure at 0x10f315350>"
      ]
     },
     "metadata": {},
     "output_type": "display_data"
    }
   ],
   "source": [
    "# instantiate a window object\n",
    "center = [1.0]\n",
    "width = [0.5]\n",
    "win = pyramid.Pyramid(center, width)\n",
    "\n",
    "# plot the support of the pyramid object\n",
    "x = np.linspace(0.0, 2.0, 100)\n",
    "out = [win([i]) for i in x]\n",
    "plt.plot(x, out)"
   ]
  },
  {
   "cell_type": "markdown",
   "metadata": {},
   "source": [
    "#### Partition objects\n",
    "\n",
    "The NEUS toolkit provides the partition class that represents a collection of window objects. It's implementation is effectively a callable list, whose call function returns a normlized vector of the supports of it's elements. Note that it enforces that each element of a partition must itself be a callable object."
   ]
  },
  {
   "cell_type": "code",
   "execution_count": 25,
   "metadata": {
    "collapsed": false
   },
   "outputs": [
    {
     "name": "stdout",
     "output_type": "stream",
     "text": [
      "partition([Pyramid([-3], [ 0.75]), Pyramid([-2], [ 0.75]), Pyramid([-1], [ 0.75]), Pyramid([0], [ 0.75]), Pyramid([1], [ 0.75]), Pyramid([2], [ 0.75])])\n"
     ]
    }
   ],
   "source": [
    "# create an empty partition object\n",
    "sys = partition.Partition()\n",
    "\n",
    "# create a list of winodw objects\n",
    "width = 0.75\n",
    "\n",
    "centers = [x for x in np.arange(-3, 3)]\n",
    "\n",
    "# now add the windows to partition\n",
    "for center in centers:\n",
    "    win = pyramid.Pyramid([center], [width])\n",
    "    sys.append(win)\n",
    "\n",
    "    \n",
    "print sys"
   ]
  },
  {
   "cell_type": "markdown",
   "metadata": {},
   "source": [
    "Partition objects act like callable lists so some of the expected list operations also work with partitons:"
   ]
  },
  {
   "cell_type": "code",
   "execution_count": 26,
   "metadata": {
    "collapsed": false
   },
   "outputs": [
    {
     "name": "stdout",
     "output_type": "stream",
     "text": [
      "Pyramid([-3], [ 0.75])\n",
      "[Pyramid([-1], [ 0.75]), Pyramid([0], [ 0.75])]\n",
      "[Pyramid([-1], [ 0.75]), Pyramid([0], [ 0.75]), Pyramid([-3], [ 0.75])]\n"
     ]
    }
   ],
   "source": [
    "# element access\n",
    "print sys[0]\n",
    "\n",
    "# slicing\n",
    "print sys[2:4]\n",
    "\n",
    "# list concatenation\n",
    "print sys[2:4] + [sys[0]]"
   ]
  },
  {
   "cell_type": "markdown",
   "metadata": {
    "collapsed": true
   },
   "source": [
    "The partition's call routine returns the normalized vector of supports:"
   ]
  },
  {
   "cell_type": "code",
   "execution_count": 27,
   "metadata": {
    "collapsed": false
   },
   "outputs": [
    {
     "data": {
      "text/plain": [
       "array([ 0.5,  0.5,  0. ,  0. ,  0. ,  0. ])"
      ]
     },
     "execution_count": 27,
     "metadata": {},
     "output_type": "execute_result"
    }
   ],
   "source": [
    "# choose a point with nonzero support\n",
    "cv = [-2.5]\n",
    "\n",
    "# return normalized vector of the support\n",
    "print sys(cv)"
   ]
  }
 ],
 "metadata": {
  "anaconda-cloud": {},
  "kernelspec": {
   "display_name": "Python [Root]",
   "language": "python",
   "name": "Python [Root]"
  },
  "language_info": {
   "codemirror_mode": {
    "name": "ipython",
    "version": 2
   },
   "file_extension": ".py",
   "mimetype": "text/x-python",
   "name": "python",
   "nbconvert_exporter": "python",
   "pygments_lexer": "ipython2",
   "version": "2.7.12"
  }
 },
 "nbformat": 4,
 "nbformat_minor": 0
}
